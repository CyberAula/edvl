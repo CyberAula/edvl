{
 "cells": [
  {
   "cell_type": "code",
   "execution_count": 50,
   "metadata": {},
   "outputs": [],
   "source": [
    "import pandas as pd\n",
    "import numpy as np\n",
    "import matplotlib.pyplot as plt\n",
    "import seaborn as sns\n",
    "\n",
    "from sklearn.datasets import load_iris\n",
    "from sklearn.tree import DecisionTreeRegressor\n",
    "from sklearn.tree import export_text\n",
    "from sklearn.model_selection import train_test_split\n",
    "%matplotlib inline"
   ]
  },
  {
   "cell_type": "code",
   "execution_count": 51,
   "metadata": {},
   "outputs": [
    {
     "data": {
      "text/html": [
       "<div>\n",
       "<style scoped>\n",
       "    .dataframe tbody tr th:only-of-type {\n",
       "        vertical-align: middle;\n",
       "    }\n",
       "\n",
       "    .dataframe tbody tr th {\n",
       "        vertical-align: top;\n",
       "    }\n",
       "\n",
       "    .dataframe thead th {\n",
       "        text-align: right;\n",
       "    }\n",
       "</style>\n",
       "<table border=\"1\" class=\"dataframe\">\n",
       "  <thead>\n",
       "    <tr style=\"text-align: right;\">\n",
       "      <th></th>\n",
       "      <th>id</th>\n",
       "      <th>date</th>\n",
       "      <th>time</th>\n",
       "      <th>items</th>\n",
       "      <th>day</th>\n",
       "      <th>month</th>\n",
       "      <th>year</th>\n",
       "      <th>weekDay</th>\n",
       "    </tr>\n",
       "  </thead>\n",
       "  <tbody>\n",
       "    <tr>\n",
       "      <th>0</th>\n",
       "      <td>0</td>\n",
       "      <td>2016-01-14</td>\n",
       "      <td>0</td>\n",
       "      <td>1</td>\n",
       "      <td>14</td>\n",
       "      <td>1</td>\n",
       "      <td>2016</td>\n",
       "      <td>3</td>\n",
       "    </tr>\n",
       "    <tr>\n",
       "      <th>1</th>\n",
       "      <td>1</td>\n",
       "      <td>2016-01-15</td>\n",
       "      <td>0</td>\n",
       "      <td>2</td>\n",
       "      <td>15</td>\n",
       "      <td>1</td>\n",
       "      <td>2016</td>\n",
       "      <td>4</td>\n",
       "    </tr>\n",
       "    <tr>\n",
       "      <th>2</th>\n",
       "      <td>2</td>\n",
       "      <td>2016-01-16</td>\n",
       "      <td>0</td>\n",
       "      <td>4</td>\n",
       "      <td>16</td>\n",
       "      <td>1</td>\n",
       "      <td>2016</td>\n",
       "      <td>5</td>\n",
       "    </tr>\n",
       "    <tr>\n",
       "      <th>3</th>\n",
       "      <td>3</td>\n",
       "      <td>2016-01-17</td>\n",
       "      <td>0</td>\n",
       "      <td>9</td>\n",
       "      <td>17</td>\n",
       "      <td>1</td>\n",
       "      <td>2016</td>\n",
       "      <td>6</td>\n",
       "    </tr>\n",
       "    <tr>\n",
       "      <th>4</th>\n",
       "      <td>4</td>\n",
       "      <td>2016-01-18</td>\n",
       "      <td>0</td>\n",
       "      <td>1</td>\n",
       "      <td>18</td>\n",
       "      <td>1</td>\n",
       "      <td>2016</td>\n",
       "      <td>0</td>\n",
       "    </tr>\n",
       "  </tbody>\n",
       "</table>\n",
       "</div>"
      ],
      "text/plain": [
       "   id        date  time  items  day  month  year  weekDay\n",
       "0   0  2016-01-14     0      1   14      1  2016        3\n",
       "1   1  2016-01-15     0      2   15      1  2016        4\n",
       "2   2  2016-01-16     0      4   16      1  2016        5\n",
       "3   3  2016-01-17     0      9   17      1  2016        6\n",
       "4   4  2016-01-18     0      1   18      1  2016        0"
      ]
     },
     "execution_count": 51,
     "metadata": {},
     "output_type": "execute_result"
    }
   ],
   "source": [
    "df = pd.read_csv('/prediction-job/carrefour_data.csv')  \n",
    "df.head()"
   ]
  },
  {
   "cell_type": "code",
   "execution_count": 52,
   "metadata": {},
   "outputs": [
    {
     "data": {
      "text/html": [
       "<div>\n",
       "<style scoped>\n",
       "    .dataframe tbody tr th:only-of-type {\n",
       "        vertical-align: middle;\n",
       "    }\n",
       "\n",
       "    .dataframe tbody tr th {\n",
       "        vertical-align: top;\n",
       "    }\n",
       "\n",
       "    .dataframe thead th {\n",
       "        text-align: right;\n",
       "    }\n",
       "</style>\n",
       "<table border=\"1\" class=\"dataframe\">\n",
       "  <thead>\n",
       "    <tr style=\"text-align: right;\">\n",
       "      <th></th>\n",
       "      <th>id</th>\n",
       "      <th>time</th>\n",
       "      <th>items</th>\n",
       "      <th>day</th>\n",
       "      <th>month</th>\n",
       "      <th>year</th>\n",
       "      <th>weekDay</th>\n",
       "    </tr>\n",
       "  </thead>\n",
       "  <tbody>\n",
       "    <tr>\n",
       "      <th>count</th>\n",
       "      <td>1656.000000</td>\n",
       "      <td>1656.000000</td>\n",
       "      <td>1656.000000</td>\n",
       "      <td>1656.000000</td>\n",
       "      <td>1656.000000</td>\n",
       "      <td>1656.0</td>\n",
       "      <td>1656.000000</td>\n",
       "    </tr>\n",
       "    <tr>\n",
       "      <th>mean</th>\n",
       "      <td>827.500000</td>\n",
       "      <td>14.166667</td>\n",
       "      <td>106.118961</td>\n",
       "      <td>15.663043</td>\n",
       "      <td>2.445652</td>\n",
       "      <td>2016.0</td>\n",
       "      <td>3.000000</td>\n",
       "    </tr>\n",
       "    <tr>\n",
       "      <th>std</th>\n",
       "      <td>478.190339</td>\n",
       "      <td>5.873079</td>\n",
       "      <td>62.207234</td>\n",
       "      <td>8.733240</td>\n",
       "      <td>0.971220</td>\n",
       "      <td>0.0</td>\n",
       "      <td>1.989702</td>\n",
       "    </tr>\n",
       "    <tr>\n",
       "      <th>min</th>\n",
       "      <td>0.000000</td>\n",
       "      <td>0.000000</td>\n",
       "      <td>0.000000</td>\n",
       "      <td>1.000000</td>\n",
       "      <td>1.000000</td>\n",
       "      <td>2016.0</td>\n",
       "      <td>0.000000</td>\n",
       "    </tr>\n",
       "    <tr>\n",
       "      <th>25%</th>\n",
       "      <td>413.750000</td>\n",
       "      <td>10.000000</td>\n",
       "      <td>53.000000</td>\n",
       "      <td>8.000000</td>\n",
       "      <td>2.000000</td>\n",
       "      <td>2016.0</td>\n",
       "      <td>1.000000</td>\n",
       "    </tr>\n",
       "    <tr>\n",
       "      <th>50%</th>\n",
       "      <td>827.500000</td>\n",
       "      <td>14.500000</td>\n",
       "      <td>120.000000</td>\n",
       "      <td>15.500000</td>\n",
       "      <td>2.000000</td>\n",
       "      <td>2016.0</td>\n",
       "      <td>3.000000</td>\n",
       "    </tr>\n",
       "    <tr>\n",
       "      <th>75%</th>\n",
       "      <td>1241.250000</td>\n",
       "      <td>19.000000</td>\n",
       "      <td>150.000000</td>\n",
       "      <td>23.000000</td>\n",
       "      <td>3.000000</td>\n",
       "      <td>2016.0</td>\n",
       "      <td>5.000000</td>\n",
       "    </tr>\n",
       "    <tr>\n",
       "      <th>max</th>\n",
       "      <td>1655.000000</td>\n",
       "      <td>23.000000</td>\n",
       "      <td>266.000000</td>\n",
       "      <td>31.000000</td>\n",
       "      <td>4.000000</td>\n",
       "      <td>2016.0</td>\n",
       "      <td>6.000000</td>\n",
       "    </tr>\n",
       "  </tbody>\n",
       "</table>\n",
       "</div>"
      ],
      "text/plain": [
       "                id         time        items          day        month  \\\n",
       "count  1656.000000  1656.000000  1656.000000  1656.000000  1656.000000   \n",
       "mean    827.500000    14.166667   106.118961    15.663043     2.445652   \n",
       "std     478.190339     5.873079    62.207234     8.733240     0.971220   \n",
       "min       0.000000     0.000000     0.000000     1.000000     1.000000   \n",
       "25%     413.750000    10.000000    53.000000     8.000000     2.000000   \n",
       "50%     827.500000    14.500000   120.000000    15.500000     2.000000   \n",
       "75%    1241.250000    19.000000   150.000000    23.000000     3.000000   \n",
       "max    1655.000000    23.000000   266.000000    31.000000     4.000000   \n",
       "\n",
       "         year      weekDay  \n",
       "count  1656.0  1656.000000  \n",
       "mean   2016.0     3.000000  \n",
       "std       0.0     1.989702  \n",
       "min    2016.0     0.000000  \n",
       "25%    2016.0     1.000000  \n",
       "50%    2016.0     3.000000  \n",
       "75%    2016.0     5.000000  \n",
       "max    2016.0     6.000000  "
      ]
     },
     "execution_count": 52,
     "metadata": {},
     "output_type": "execute_result"
    }
   ],
   "source": [
    "df.describe()"
   ]
  },
  {
   "cell_type": "code",
   "execution_count": 53,
   "metadata": {},
   "outputs": [
    {
     "data": {
      "text/html": [
       "<div>\n",
       "<style scoped>\n",
       "    .dataframe tbody tr th:only-of-type {\n",
       "        vertical-align: middle;\n",
       "    }\n",
       "\n",
       "    .dataframe tbody tr th {\n",
       "        vertical-align: top;\n",
       "    }\n",
       "\n",
       "    .dataframe thead th {\n",
       "        text-align: right;\n",
       "    }\n",
       "</style>\n",
       "<table border=\"1\" class=\"dataframe\">\n",
       "  <thead>\n",
       "    <tr style=\"text-align: right;\">\n",
       "      <th></th>\n",
       "      <th>items</th>\n",
       "    </tr>\n",
       "    <tr>\n",
       "      <th>month</th>\n",
       "      <th></th>\n",
       "    </tr>\n",
       "  </thead>\n",
       "  <tbody>\n",
       "    <tr>\n",
       "      <th>1</th>\n",
       "      <td>35300</td>\n",
       "    </tr>\n",
       "    <tr>\n",
       "      <th>2</th>\n",
       "      <td>54865</td>\n",
       "    </tr>\n",
       "    <tr>\n",
       "      <th>3</th>\n",
       "      <td>58285</td>\n",
       "    </tr>\n",
       "    <tr>\n",
       "      <th>4</th>\n",
       "      <td>27283</td>\n",
       "    </tr>\n",
       "  </tbody>\n",
       "</table>\n",
       "</div>"
      ],
      "text/plain": [
       "       items\n",
       "month       \n",
       "1      35300\n",
       "2      54865\n",
       "3      58285\n",
       "4      27283"
      ]
     },
     "execution_count": 53,
     "metadata": {},
     "output_type": "execute_result"
    }
   ],
   "source": [
    "df[[\"month\",\"items\"]].groupby(\"month\").sum()"
   ]
  },
  {
   "cell_type": "code",
   "execution_count": 54,
   "metadata": {},
   "outputs": [
    {
     "data": {
      "image/png": "[encoded data removed]",
      "text/plain": [
       "<Figure size 432x288 with 1 Axes>"
      ]
     },
     "metadata": {
      "needs_background": "light"
     },
     "output_type": "display_data"
    }
   ],
   "source": [
    "ax = sns.lineplot(x=\"day\", y=\"items\", data=df)"
   ]
  },
  {
   "cell_type": "code",
   "execution_count": 55,
   "metadata": {},
   "outputs": [
    {
     "data": {
      "text/plain": [
       "array([120., 137.,   5.,   3.,  92., 204., 203.,   5.,   6., 140., 121.,\n",
       "       192., 104., 148.,   1.,  35., 146.,  10., 137., 149., 149.,   3.,\n",
       "        24.,  24., 143.,  71.,  27., 140., 147., 211., 117.,   2., 185.,\n",
       "       189.,  43.,  14.,   2., 139.,  98.,  76., 127.,  76.,  40.,  23.,\n",
       "       132., 202., 177.,  17.,  10., 175.,  13., 138., 105., 126., 151.,\n",
       "       162., 155., 158., 128., 117.,  28., 153.,  68., 134.,  89., 126.,\n",
       "       138.,  94.,  61.,  20.,   1.,  66.,  84., 220., 148., 180.,   9.,\n",
       "        71., 143., 151.,  63.,  33.,   2.,  14.,  27., 196., 119., 145.,\n",
       "       124.,  32., 148.,  13., 113., 163., 131.,  66.,   8., 111.,   8.,\n",
       "        87.,  91., 119., 151.,  85.,   5.,  50., 144.,  76., 127.,  33.,\n",
       "       105., 114., 144.,  66., 115., 160., 119.,  47., 146.,   2.,   0.,\n",
       "        61.,  79.,  61., 168., 162.,   0., 126.,  28., 157.,  63., 114.,\n",
       "       204., 164., 132., 139.,  76., 200., 105.,  33., 158., 182., 127.,\n",
       "       131.,   4., 164., 189., 184., 155.,  16.,   5.,  79., 111.,   5.,\n",
       "       227.,  27., 157.,  58., 125., 116., 184., 206., 122., 142.,  70.,\n",
       "        28.,  15.,  95., 158.,  76., 157.,  33., 161., 130., 183.,  66.,\n",
       "       189., 160., 117.,  86., 148., 142.,  31.,  14., 146., 151.,  34.,\n",
       "       254., 153., 121., 156., 122.,  54., 143., 148., 121., 170., 106.,\n",
       "        61., 119., 153.,  53., 146., 153., 141.,   2., 153., 243.,   5.,\n",
       "       172., 150., 145.,  34.,  58., 192.,   5., 123., 125.,  28.,   9.,\n",
       "       138., 113., 124.,   7., 121.,  57., 141.,   8.,  95.,  66.,  89.,\n",
       "       149., 128., 141.,  42., 162., 162.,  99.,  28.,  10.,   4.,  43.,\n",
       "        13., 242.,   8.,  71.,   3., 124.,  53., 185., 112.,  17.,  69.,\n",
       "       143., 160.,  32.,  82.,  18.,  75., 139., 119., 108.,  30.,  24.,\n",
       "       127., 214., 194.,  10., 114.,  23., 175.,  62., 157., 120., 168.,\n",
       "       134.,   9.,  74., 153., 207., 202.,  59., 164.,  72., 164., 160.,\n",
       "       140.,  81.,  35.,   5., 138.,  40.,  11., 163.,   8.,  33.,  53.,\n",
       "        71., 147., 192.,  86., 148., 128.,   2., 119.,  97., 151., 130.,\n",
       "       144., 141.,  16., 133., 181., 175., 174., 139.,  91.,  62., 103.,\n",
       "       136.,  38., 206., 121., 153., 171.,  82., 119.,   5., 143.,   0.,\n",
       "       120.,  58.])"
      ]
     },
     "execution_count": 55,
     "metadata": {},
     "output_type": "execute_result"
    }
   ],
   "source": [
    "X = df[[\"time\",\"day\",\"month\",\"weekDay\"]] \n",
    "y = df[[\"items\"]]\n",
    "\n",
    "X_train, X_test, y_train, y_test = train_test_split(X, y, test_size=0.2, random_state=3)\n",
    "decision_tree = DecisionTreeRegressor()\n",
    "\n",
    "decision_tree = decision_tree.fit(X_train,y_train)\n",
    "decision_tree.predict(X_test)"
   ]
  },
  {
   "cell_type": "code",
   "execution_count": 56,
   "metadata": {},
   "outputs": [
    {
     "data": {
      "text/plain": [
       "0.929509616044688"
      ]
     },
     "execution_count": 56,
     "metadata": {},
     "output_type": "execute_result"
    }
   ],
   "source": [
    "decision_tree.score(X_test, y_test)"
   ]
  }
 ],
 "metadata": {
  "kernelspec": {
   "display_name": "Python 3",
   "language": "python",
   "name": "python3"
  },
  "language_info": {
   "codemirror_mode": {
    "name": "ipython",
    "version": 3
   },
   "file_extension": ".py",
   "mimetype": "text/x-python",
   "name": "python",
   "nbconvert_exporter": "python",
   "pygments_lexer": "ipython3",
   "version": "3.8.5"
  }
 },
 "nbformat": 4,
 "nbformat_minor": 4
}
